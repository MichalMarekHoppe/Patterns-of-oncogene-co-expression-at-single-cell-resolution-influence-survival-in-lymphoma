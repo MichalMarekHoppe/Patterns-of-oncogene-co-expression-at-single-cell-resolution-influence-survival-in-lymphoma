{
 "cells": [
  {
   "cell_type": "code",
   "execution_count": null,
   "id": "66d919a9",
   "metadata": {},
   "outputs": [],
   "source": [
    "import cv2\n",
    "import pandas as pd\n",
    "import glob\n",
    "import re\n",
    "import shutil\n",
    "import os"
   ]
  },
  {
   "cell_type": "code",
   "execution_count": null,
   "id": "62d4a15c",
   "metadata": {},
   "outputs": [],
   "source": [
    "a = []\n",
    "b = []\n",
    "for file in glob.glob(\"/Users/gayatrikumar/NUS_work/SGH_v2/*\"):\n",
    "    b.append(file)\n",
    "    bit = file.split(\"/\")[-1]\n",
    "    v = [str(x) for x in bit.split('_')]\n",
    "    to_write = [v[0].split(\"Patient\")[-1] , v[1]]\n",
    "    #print(to_write)\n",
    "    a.append(to_write)\n",
    "    "
   ]
  },
  {
   "cell_type": "code",
   "execution_count": null,
   "id": "027e7fe5",
   "metadata": {},
   "outputs": [],
   "source": [
    "print(a)"
   ]
  },
  {
   "cell_type": "code",
   "execution_count": null,
   "id": "a2a7c483",
   "metadata": {},
   "outputs": [],
   "source": [
    "c = []\n",
    "d = []\n",
    "# Storing the file names and path of the images\n",
    "for file in glob.glob(\"/Users/gayatrikumar/NUS_work/images/SGH/RGB_tissuemask/*\"):\n",
    "#for file in glob.glob(\"/Users//NUS_work/images/MDA/RGB_tissue_mask/*\"):    \n",
    "    to_write = [int(x) for x in file.split('[')[1].split(',')[1:3]]\n",
    "    if (to_write[0] < 10 and to_write[1] < 10 ):\n",
    "        bit = [\"0\"+ str(to_write[0]) , \"0\"+ str(to_write[1])]\n",
    "        #print(bit)\n",
    "    elif (to_write[0] >= 10 and to_write[1] < 10 ) :\n",
    "        bit = [str(to_write[0]) , \"0\"+ str(to_write[1])]\n",
    "        #print(bit)\n",
    "    elif (to_write[0] < 10 and to_write[1] >= 10 ) :\n",
    "        bit = [\"0\"+ str(to_write[0]) ,  str(to_write[1])]\n",
    "        #print(bit)\n",
    "    elif (to_write[0] >= 10 and to_write[1] >= 10 ) :\n",
    "        bit = [str(to_write[0]) ,  str(to_write[1])]\n",
    "        #print(bit)\n",
    "    c.append(bit)\n",
    "    d.append(file)"
   ]
  },
  {
   "cell_type": "code",
   "execution_count": null,
   "id": "8d04441c",
   "metadata": {},
   "outputs": [],
   "source": [
    "print(c)"
   ]
  },
  {
   "cell_type": "code",
   "execution_count": null,
   "id": "7a57b120",
   "metadata": {},
   "outputs": [],
   "source": [
    "# Plotting the X-Y coordinates of the points on each image and storing the RGB images with overlaid points\n",
    "for j, item in enumerate(a):\n",
    "    i = c.index(item) \n",
    "    image1 = cv2.imread(d[i])\n",
    "    df = pd.read_csv(b[j])\n",
    "    for row in range(df.shape[0]):\n",
    "        x = int(df.loc[[row]][\"X\"])\n",
    "        y = int(df.loc[[row]][\"Y\"])\n",
    "        image1 = cv2.circle(image1, (x,y), radius=5, color= [0,255,0], thickness=8)\n",
    "        print(row)\n",
    "        sorc = d[i]\n",
    "        dst = \"/Users/NUS_work/images/SGH/RGB_tissue_mask_renamed/\" +b[j].split('/')[-1] +\".jpg\"\n",
    "        shutil.copyfile(sorc, dst)\n",
    "\n",
    "        cv2.imshow(\"img\", image3)\n",
    "        cv2.waitKey(0)\n",
    "    cv2.imwrite(\"/Users/gayatrikumar/NUS_work/images/SGH/SGH_mapped_labels_v2/\"+b[j].split('/')[-1]+\".tiff\",  image1)"
   ]
  }
 ],
 "metadata": {
  "kernelspec": {
   "display_name": "Python 3",
   "language": "python",
   "name": "python3"
  },
  "language_info": {
   "codemirror_mode": {
    "name": "ipython",
    "version": 3
   },
   "file_extension": ".py",
   "mimetype": "text/x-python",
   "name": "python",
   "nbconvert_exporter": "python",
   "pygments_lexer": "ipython3",
   "version": "3.8.10"
  }
 },
 "nbformat": 4,
 "nbformat_minor": 5
}
